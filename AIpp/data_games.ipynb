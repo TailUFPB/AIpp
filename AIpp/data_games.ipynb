{
  "cells": [
    {
      "cell_type": "code",
      "execution_count": 2,
      "metadata": {
        "colab": {
          "base_uri": "https://localhost:8080/"
        },
        "id": "N_sxYfMS61nd",
        "outputId": "7958e06e-f624-42ac-8059-c72bd11f3673"
      },
      "outputs": [
        {
          "name": "stdout",
          "output_type": "stream",
          "text": [
            "Requirement already satisfied: textblob in c:\\users\\tales\\anaconda3\\lib\\site-packages (0.17.1)\n",
            "Requirement already satisfied: nltk>=3.1 in c:\\users\\tales\\anaconda3\\lib\\site-packages (from textblob) (3.7)\n",
            "Requirement already satisfied: click in c:\\users\\tales\\anaconda3\\lib\\site-packages (from nltk>=3.1->textblob) (8.0.4)\n",
            "Requirement already satisfied: regex>=2021.8.3 in c:\\users\\tales\\anaconda3\\lib\\site-packages (from nltk>=3.1->textblob) (2022.7.9)\n",
            "Requirement already satisfied: tqdm in c:\\users\\tales\\anaconda3\\lib\\site-packages (from nltk>=3.1->textblob) (4.64.1)\n",
            "Requirement already satisfied: joblib in c:\\users\\tales\\anaconda3\\lib\\site-packages (from nltk>=3.1->textblob) (1.1.0)\n",
            "Requirement already satisfied: colorama in c:\\users\\tales\\anaconda3\\lib\\site-packages (from click->nltk>=3.1->textblob) (0.4.6)\n"
          ]
        }
      ],
      "source": [
        "!pip install -U textblob"
      ]
    },
    {
      "cell_type": "code",
      "execution_count": 3,
      "metadata": {
        "colab": {
          "base_uri": "https://localhost:8080/"
        },
        "id": "vLR0kCqI8Mb4",
        "outputId": "c098aff0-ebc1-4147-a8cb-000e7beef9f5"
      },
      "outputs": [
        {
          "name": "stderr",
          "output_type": "stream",
          "text": [
            "[nltk_data] Downloading package punkt to\n",
            "[nltk_data]     C:\\Users\\tales\\AppData\\Roaming\\nltk_data...\n",
            "[nltk_data]   Package punkt is already up-to-date!\n"
          ]
        },
        {
          "data": {
            "text/plain": [
              "True"
            ]
          },
          "execution_count": 3,
          "metadata": {},
          "output_type": "execute_result"
        }
      ],
      "source": [
        "nltk.download('punkt')"
      ]
    },
    {
      "cell_type": "code",
      "execution_count": 1,
      "metadata": {
        "id": "GWJ4Kk8-yuzj"
      },
      "outputs": [],
      "source": [
        "import pandas as pd\n",
        "import nltk\n",
        "\n",
        "from textblob import TextBlob\n",
        "from wordcloud import WordCloud\n",
        "import matplotlib.pyplot as plt"
      ]
    },
    {
      "cell_type": "code",
      "execution_count": 4,
      "metadata": {
        "colab": {
          "base_uri": "https://localhost:8080/",
          "height": 424
        },
        "id": "DVmerKwuy3u-",
        "outputId": "14d242a7-7a70-4a29-849d-d0170fa2bf95"
      },
      "outputs": [
        {
          "data": {
            "text/html": [
              "<div>\n",
              "<style scoped>\n",
              "    .dataframe tbody tr th:only-of-type {\n",
              "        vertical-align: middle;\n",
              "    }\n",
              "\n",
              "    .dataframe tbody tr th {\n",
              "        vertical-align: top;\n",
              "    }\n",
              "\n",
              "    .dataframe thead th {\n",
              "        text-align: right;\n",
              "    }\n",
              "</style>\n",
              "<table border=\"1\" class=\"dataframe\">\n",
              "  <thead>\n",
              "    <tr style=\"text-align: right;\">\n",
              "      <th></th>\n",
              "      <th>reviews</th>\n",
              "      <th>score</th>\n",
              "      <th>likes</th>\n",
              "      <th>time</th>\n",
              "      <th>app_name</th>\n",
              "      <th>year</th>\n",
              "      <th>reviews_en</th>\n",
              "    </tr>\n",
              "  </thead>\n",
              "  <tbody>\n",
              "    <tr>\n",
              "      <th>0</th>\n",
              "      <td>Olá! Sei que é um app que está em teste, está ...</td>\n",
              "      <td>4</td>\n",
              "      <td>586</td>\n",
              "      <td>13/11/2021</td>\n",
              "      <td>Xbox Game Pass (Beta)</td>\n",
              "      <td>2021</td>\n",
              "      <td>Hello! I know it's an app that's being tested,...</td>\n",
              "    </tr>\n",
              "    <tr>\n",
              "      <th>1</th>\n",
              "      <td>O app é excelente, a questão é que existem alg...</td>\n",
              "      <td>4</td>\n",
              "      <td>369</td>\n",
              "      <td>19/07/2022</td>\n",
              "      <td>Xbox Game Pass (Beta)</td>\n",
              "      <td>2022</td>\n",
              "      <td>The app is excellent, the issue is that there ...</td>\n",
              "    </tr>\n",
              "    <tr>\n",
              "      <th>2</th>\n",
              "      <td>Sei que ainda está em beta mas, seria interess...</td>\n",
              "      <td>3</td>\n",
              "      <td>509</td>\n",
              "      <td>23/11/2021</td>\n",
              "      <td>Xbox Game Pass (Beta)</td>\n",
              "      <td>2021</td>\n",
              "      <td>I know it's still in beta, but it would be int...</td>\n",
              "    </tr>\n",
              "    <tr>\n",
              "      <th>3</th>\n",
              "      <td>Ficou top o visual da nova versão. Deveriam un...</td>\n",
              "      <td>5</td>\n",
              "      <td>289</td>\n",
              "      <td>02/07/2020</td>\n",
              "      <td>Xbox Game Pass (Beta)</td>\n",
              "      <td>2020</td>\n",
              "      <td>The look of the new version was top. They shou...</td>\n",
              "    </tr>\n",
              "    <tr>\n",
              "      <th>4</th>\n",
              "      <td>O aplicativo é realmente muito bom, é o que to...</td>\n",
              "      <td>5</td>\n",
              "      <td>44</td>\n",
              "      <td>19/10/2021</td>\n",
              "      <td>Xbox Game Pass (Beta)</td>\n",
              "      <td>2021</td>\n",
              "      <td>The app is really good, it's what everyone exp...</td>\n",
              "    </tr>\n",
              "    <tr>\n",
              "      <th>...</th>\n",
              "      <td>...</td>\n",
              "      <td>...</td>\n",
              "      <td>...</td>\n",
              "      <td>...</td>\n",
              "      <td>...</td>\n",
              "      <td>...</td>\n",
              "      <td>...</td>\n",
              "    </tr>\n",
              "    <tr>\n",
              "      <th>12231</th>\n",
              "      <td>Drird</td>\n",
              "      <td>5</td>\n",
              "      <td>0</td>\n",
              "      <td>14/05/2020</td>\n",
              "      <td>Steam Link</td>\n",
              "      <td>2020</td>\n",
              "      <td>Drird</td>\n",
              "    </tr>\n",
              "    <tr>\n",
              "      <th>12232</th>\n",
              "      <td>Paia</td>\n",
              "      <td>2</td>\n",
              "      <td>0</td>\n",
              "      <td>26/12/2021</td>\n",
              "      <td>Steam Link</td>\n",
              "      <td>2021</td>\n",
              "      <td>paia</td>\n",
              "    </tr>\n",
              "    <tr>\n",
              "      <th>12233</th>\n",
              "      <td>Gg</td>\n",
              "      <td>4</td>\n",
              "      <td>0</td>\n",
              "      <td>27/09/2019</td>\n",
              "      <td>Steam Link</td>\n",
              "      <td>2019</td>\n",
              "      <td>gg</td>\n",
              "    </tr>\n",
              "    <tr>\n",
              "      <th>12234</th>\n",
              "      <td>Amor</td>\n",
              "      <td>5</td>\n",
              "      <td>0</td>\n",
              "      <td>19/07/2018</td>\n",
              "      <td>Steam Link</td>\n",
              "      <td>2018</td>\n",
              "      <td>Love</td>\n",
              "    </tr>\n",
              "    <tr>\n",
              "      <th>12235</th>\n",
              "      <td>e rum</td>\n",
              "      <td>1</td>\n",
              "      <td>0</td>\n",
              "      <td>02/03/2019</td>\n",
              "      <td>Steam Link</td>\n",
              "      <td>2019</td>\n",
              "      <td>and rum</td>\n",
              "    </tr>\n",
              "  </tbody>\n",
              "</table>\n",
              "<p>12236 rows × 7 columns</p>\n",
              "</div>"
            ],
            "text/plain": [
              "                                                 reviews  score  likes  \\\n",
              "0      Olá! Sei que é um app que está em teste, está ...      4    586   \n",
              "1      O app é excelente, a questão é que existem alg...      4    369   \n",
              "2      Sei que ainda está em beta mas, seria interess...      3    509   \n",
              "3      Ficou top o visual da nova versão. Deveriam un...      5    289   \n",
              "4      O aplicativo é realmente muito bom, é o que to...      5     44   \n",
              "...                                                  ...    ...    ...   \n",
              "12231                                              Drird      5      0   \n",
              "12232                                               Paia      2      0   \n",
              "12233                                                 Gg      4      0   \n",
              "12234                                               Amor      5      0   \n",
              "12235                                              e rum      1      0   \n",
              "\n",
              "             time               app_name  year  \\\n",
              "0      13/11/2021  Xbox Game Pass (Beta)  2021   \n",
              "1      19/07/2022  Xbox Game Pass (Beta)  2022   \n",
              "2      23/11/2021  Xbox Game Pass (Beta)  2021   \n",
              "3      02/07/2020  Xbox Game Pass (Beta)  2020   \n",
              "4      19/10/2021  Xbox Game Pass (Beta)  2021   \n",
              "...           ...                    ...   ...   \n",
              "12231  14/05/2020             Steam Link  2020   \n",
              "12232  26/12/2021             Steam Link  2021   \n",
              "12233  27/09/2019             Steam Link  2019   \n",
              "12234  19/07/2018             Steam Link  2018   \n",
              "12235  02/03/2019             Steam Link  2019   \n",
              "\n",
              "                                              reviews_en  \n",
              "0      Hello! I know it's an app that's being tested,...  \n",
              "1      The app is excellent, the issue is that there ...  \n",
              "2      I know it's still in beta, but it would be int...  \n",
              "3      The look of the new version was top. They shou...  \n",
              "4      The app is really good, it's what everyone exp...  \n",
              "...                                                  ...  \n",
              "12231                                              Drird  \n",
              "12232                                               paia  \n",
              "12233                                                 gg  \n",
              "12234                                               Love  \n",
              "12235                                            and rum  \n",
              "\n",
              "[12236 rows x 7 columns]"
            ]
          },
          "execution_count": 4,
          "metadata": {},
          "output_type": "execute_result"
        }
      ],
      "source": [
        "df = pd.read_csv(\"data/games.csv\")\n",
        "df"
      ]
    },
    {
      "cell_type": "code",
      "execution_count": 5,
      "metadata": {
        "id": "KLzlvzkF64SI"
      },
      "outputs": [],
      "source": [
        "def sentences_tokenization(text):\n",
        "    sentences = []\n",
        "    blob = TextBlob(text)\n",
        "    for sentence in blob.sentences:\n",
        "        sentences.append(str(sentence))\n",
        "\n",
        "    return sentences"
      ]
    },
    {
      "cell_type": "code",
      "execution_count": 21,
      "metadata": {
        "id": "p6CeAho76_2E"
      },
      "outputs": [],
      "source": [
        "df['sentences_pt'] = df['reviews'].apply(sentences_tokenization)"
      ]
    },
    {
      "cell_type": "code",
      "execution_count": 22,
      "metadata": {
        "id": "P9ResFNx7Lmj"
      },
      "outputs": [],
      "source": [
        "def sentence_sentiment_analysis(sentence_list):\n",
        "    sentiments = []\n",
        "    for corpus in sentence_list:\n",
        "        blob = TextBlob(corpus)\n",
        "        sentiment = blob.sentiment.polarity\n",
        "        sentiments.append(sentiment)\n",
        "\n",
        "    return sentiments"
      ]
    },
    {
      "cell_type": "code",
      "execution_count": 8,
      "metadata": {
        "colab": {
          "base_uri": "https://localhost:8080/"
        },
        "id": "Hc9yT-W37oP8",
        "outputId": "ff59c2a8-f7e6-4d24-b39a-3011e23274ef"
      },
      "outputs": [
        {
          "data": {
            "text/plain": [
              "[0.0, 0.425, 0.7]"
            ]
          },
          "execution_count": 8,
          "metadata": {},
          "output_type": "execute_result"
        }
      ],
      "source": [
        "df['sentences_sentiments'] = df['sentences_en'].apply(sentence_sentiment_analysis)\n",
        "df['sentences_sentiments'][0]"
      ]
    },
    {
      "cell_type": "code",
      "execution_count": 9,
      "metadata": {
        "id": "jbavkuof7uPB"
      },
      "outputs": [],
      "source": [
        "def sentiment_classification(sentiments_list):\n",
        "    classifications = []\n",
        "    for sentiment in sentiments_list:\n",
        "        if sentiment > 0:\n",
        "            classifications.append(1)\n",
        "        elif sentiment < 0:\n",
        "            classifications.append(-1)\n",
        "        else:\n",
        "            classifications.append(0)\n",
        "\n",
        "    return classifications"
      ]
    },
    {
      "cell_type": "code",
      "execution_count": 10,
      "metadata": {
        "id": "hGeYoqce7yl8"
      },
      "outputs": [],
      "source": [
        "df['classifications'] = df['sentences_sentiments'].apply(sentiment_classification)"
      ]
    },
    {
      "cell_type": "code",
      "execution_count": 23,
      "metadata": {
        "id": "ln4soOaD8jxe"
      },
      "outputs": [],
      "source": [
        "df['positive_sentences'] = df.apply(lambda x: [frase for frase, classificacao in zip(x['sentences_pt'], x['classifications']) if classificacao == 1], axis=1)"
      ]
    },
    {
      "cell_type": "code",
      "execution_count": 24,
      "metadata": {
        "id": "eP7w1FA58kl-"
      },
      "outputs": [],
      "source": [
        "df['negative_sentences'] = df.apply(lambda x: [frase for frase, classificacao in zip(x['sentences_pt'], x['classifications']) if classificacao == -1], axis=1)"
      ]
    },
    {
      "cell_type": "code",
      "execution_count": 25,
      "metadata": {
        "colab": {
          "base_uri": "https://localhost:8080/",
          "height": 493
        },
        "id": "YcDuiwq28noZ",
        "outputId": "ba0fa29c-ad07-47f5-d084-bd4496687959"
      },
      "outputs": [
        {
          "data": {
            "text/html": [
              "<div>\n",
              "<style scoped>\n",
              "    .dataframe tbody tr th:only-of-type {\n",
              "        vertical-align: middle;\n",
              "    }\n",
              "\n",
              "    .dataframe tbody tr th {\n",
              "        vertical-align: top;\n",
              "    }\n",
              "\n",
              "    .dataframe thead th {\n",
              "        text-align: right;\n",
              "    }\n",
              "</style>\n",
              "<table border=\"1\" class=\"dataframe\">\n",
              "  <thead>\n",
              "    <tr style=\"text-align: right;\">\n",
              "      <th></th>\n",
              "      <th>reviews</th>\n",
              "      <th>score</th>\n",
              "      <th>likes</th>\n",
              "      <th>time</th>\n",
              "      <th>app_name</th>\n",
              "      <th>year</th>\n",
              "      <th>reviews_en</th>\n",
              "      <th>sentences_en</th>\n",
              "      <th>classifications</th>\n",
              "      <th>positive_sentences</th>\n",
              "      <th>negative_sentences</th>\n",
              "      <th>sentences_pt</th>\n",
              "    </tr>\n",
              "  </thead>\n",
              "  <tbody>\n",
              "    <tr>\n",
              "      <th>0</th>\n",
              "      <td>Olá! Sei que é um app que está em teste, está ...</td>\n",
              "      <td>4</td>\n",
              "      <td>586</td>\n",
              "      <td>13/11/2021</td>\n",
              "      <td>Xbox Game Pass (Beta)</td>\n",
              "      <td>2021</td>\n",
              "      <td>Hello! I know it's an app that's being tested,...</td>\n",
              "      <td>[Hello!, I know it's an app that's being teste...</td>\n",
              "      <td>[0, 1, 1]</td>\n",
              "      <td>[Sei que é um app que está em teste, está bom,...</td>\n",
              "      <td>[]</td>\n",
              "      <td>[Olá!, Sei que é um app que está em teste, est...</td>\n",
              "    </tr>\n",
              "    <tr>\n",
              "      <th>1</th>\n",
              "      <td>O app é excelente, a questão é que existem alg...</td>\n",
              "      <td>4</td>\n",
              "      <td>369</td>\n",
              "      <td>19/07/2022</td>\n",
              "      <td>Xbox Game Pass (Beta)</td>\n",
              "      <td>2022</td>\n",
              "      <td>The app is excellent, the issue is that there ...</td>\n",
              "      <td>[The app is excellent, the issue is that there...</td>\n",
              "      <td>[1, -1, 1]</td>\n",
              "      <td>[O app é excelente, a questão é que existem al...</td>\n",
              "      <td>[Um exemplo é o Gears 5, que no Cloud Gaming d...</td>\n",
              "      <td>[O app é excelente, a questão é que existem al...</td>\n",
              "    </tr>\n",
              "    <tr>\n",
              "      <th>2</th>\n",
              "      <td>Sei que ainda está em beta mas, seria interess...</td>\n",
              "      <td>3</td>\n",
              "      <td>509</td>\n",
              "      <td>23/11/2021</td>\n",
              "      <td>Xbox Game Pass (Beta)</td>\n",
              "      <td>2021</td>\n",
              "      <td>I know it's still in beta, but it would be int...</td>\n",
              "      <td>[I know it's still in beta, but it would be in...</td>\n",
              "      <td>[1, 0, 1]</td>\n",
              "      <td>[Sei que ainda está em beta mas, seria interes...</td>\n",
              "      <td>[]</td>\n",
              "      <td>[Sei que ainda está em beta mas, seria interes...</td>\n",
              "    </tr>\n",
              "    <tr>\n",
              "      <th>3</th>\n",
              "      <td>Ficou top o visual da nova versão. Deveriam un...</td>\n",
              "      <td>5</td>\n",
              "      <td>289</td>\n",
              "      <td>02/07/2020</td>\n",
              "      <td>Xbox Game Pass (Beta)</td>\n",
              "      <td>2020</td>\n",
              "      <td>The look of the new version was top. They shou...</td>\n",
              "      <td>[The look of the new version was top., They sh...</td>\n",
              "      <td>[1, 0, -1, 0, 1, 1]</td>\n",
              "      <td>[Ficou top o visual da nova versão., Fora isso...</td>\n",
              "      <td>[Está faltando visualizar as notas, opiniões d...</td>\n",
              "      <td>[Ficou top o visual da nova versão., Deveriam ...</td>\n",
              "    </tr>\n",
              "    <tr>\n",
              "      <th>4</th>\n",
              "      <td>O aplicativo é realmente muito bom, é o que to...</td>\n",
              "      <td>5</td>\n",
              "      <td>44</td>\n",
              "      <td>19/10/2021</td>\n",
              "      <td>Xbox Game Pass (Beta)</td>\n",
              "      <td>2021</td>\n",
              "      <td>The app is really good, it's what everyone exp...</td>\n",
              "      <td>[The app is really good, it's what everyone ex...</td>\n",
              "      <td>[1, 1, 0]</td>\n",
              "      <td>[O aplicativo é realmente muito bom, é o que t...</td>\n",
              "      <td>[]</td>\n",
              "      <td>[O aplicativo é realmente muito bom, é o que t...</td>\n",
              "    </tr>\n",
              "  </tbody>\n",
              "</table>\n",
              "</div>"
            ],
            "text/plain": [
              "                                             reviews  score  likes  \\\n",
              "0  Olá! Sei que é um app que está em teste, está ...      4    586   \n",
              "1  O app é excelente, a questão é que existem alg...      4    369   \n",
              "2  Sei que ainda está em beta mas, seria interess...      3    509   \n",
              "3  Ficou top o visual da nova versão. Deveriam un...      5    289   \n",
              "4  O aplicativo é realmente muito bom, é o que to...      5     44   \n",
              "\n",
              "         time               app_name  year  \\\n",
              "0  13/11/2021  Xbox Game Pass (Beta)  2021   \n",
              "1  19/07/2022  Xbox Game Pass (Beta)  2022   \n",
              "2  23/11/2021  Xbox Game Pass (Beta)  2021   \n",
              "3  02/07/2020  Xbox Game Pass (Beta)  2020   \n",
              "4  19/10/2021  Xbox Game Pass (Beta)  2021   \n",
              "\n",
              "                                          reviews_en  \\\n",
              "0  Hello! I know it's an app that's being tested,...   \n",
              "1  The app is excellent, the issue is that there ...   \n",
              "2  I know it's still in beta, but it would be int...   \n",
              "3  The look of the new version was top. They shou...   \n",
              "4  The app is really good, it's what everyone exp...   \n",
              "\n",
              "                                        sentences_en      classifications  \\\n",
              "0  [Hello!, I know it's an app that's being teste...            [0, 1, 1]   \n",
              "1  [The app is excellent, the issue is that there...           [1, -1, 1]   \n",
              "2  [I know it's still in beta, but it would be in...            [1, 0, 1]   \n",
              "3  [The look of the new version was top., They sh...  [1, 0, -1, 0, 1, 1]   \n",
              "4  [The app is really good, it's what everyone ex...            [1, 1, 0]   \n",
              "\n",
              "                                  positive_sentences  \\\n",
              "0  [Sei que é um app que está em teste, está bom,...   \n",
              "1  [O app é excelente, a questão é que existem al...   \n",
              "2  [Sei que ainda está em beta mas, seria interes...   \n",
              "3  [Ficou top o visual da nova versão., Fora isso...   \n",
              "4  [O aplicativo é realmente muito bom, é o que t...   \n",
              "\n",
              "                                  negative_sentences  \\\n",
              "0                                                 []   \n",
              "1  [Um exemplo é o Gears 5, que no Cloud Gaming d...   \n",
              "2                                                 []   \n",
              "3  [Está faltando visualizar as notas, opiniões d...   \n",
              "4                                                 []   \n",
              "\n",
              "                                        sentences_pt  \n",
              "0  [Olá!, Sei que é um app que está em teste, est...  \n",
              "1  [O app é excelente, a questão é que existem al...  \n",
              "2  [Sei que ainda está em beta mas, seria interes...  \n",
              "3  [Ficou top o visual da nova versão., Deveriam ...  \n",
              "4  [O aplicativo é realmente muito bom, é o que t...  "
            ]
          },
          "execution_count": 25,
          "metadata": {},
          "output_type": "execute_result"
        }
      ],
      "source": [
        "df.head()"
      ]
    },
    {
      "cell_type": "code",
      "execution_count": 14,
      "metadata": {
        "colab": {
          "base_uri": "https://localhost:8080/"
        },
        "id": "JJsIg_KJLEX0",
        "outputId": "8cf3ed26-df6f-480f-c907-153938c521d0"
      },
      "outputs": [
        {
          "name": "stderr",
          "output_type": "stream",
          "text": [
            "[nltk_data] Downloading package punkt to\n",
            "[nltk_data]     C:\\Users\\tales\\AppData\\Roaming\\nltk_data...\n",
            "[nltk_data]   Package punkt is already up-to-date!\n",
            "[nltk_data] Downloading package stopwords to\n",
            "[nltk_data]     C:\\Users\\tales\\AppData\\Roaming\\nltk_data...\n",
            "[nltk_data]   Package stopwords is already up-to-date!\n",
            "[nltk_data] Downloading package wordnet to\n",
            "[nltk_data]     C:\\Users\\tales\\AppData\\Roaming\\nltk_data...\n",
            "[nltk_data]   Package wordnet is already up-to-date!\n"
          ]
        },
        {
          "data": {
            "text/plain": [
              "True"
            ]
          },
          "execution_count": 14,
          "metadata": {},
          "output_type": "execute_result"
        }
      ],
      "source": [
        "import nltk\n",
        "from nltk.tokenize import word_tokenize\n",
        "import string\n",
        "from textblob import TextBlob, Word\n",
        "nltk.download('punkt')\n",
        "nltk.download('stopwords')\n",
        "nltk.download('wordnet')"
      ]
    },
    {
      "cell_type": "code",
      "execution_count": 15,
      "metadata": {
        "id": "R5RErz28_YDp"
      },
      "outputs": [],
      "source": [
        "positive_text = [str(frase) for frase in df['positive_sentences']]\n",
        "positive_text = ' '.join(positive_text)\n",
        "\n",
        "negative_text = [str(frase) for frase in df['negative_sentences']]\n",
        "negative_text = ' '.join(negative_text)\n",
        "\n",
        "stopwords = nltk.corpus.stopwords.words('english')\n",
        "punctuation = string.punctuation\n",
        "\n",
        "positive_text = positive_text.lower()\n",
        "negative_text = negative_text.lower()\n",
        "\n",
        "wp = Word(positive_text)\n",
        "lemma_pos = TextBlob(positive_text)\n",
        "\" \". join([w.lemmatize() for w in lemma_pos.words])\n",
        "\n",
        "wn = Word(negative_text)\n",
        "lemma_neg = TextBlob(negative_text)\n",
        "\" \". join([w.lemmatize() for w in lemma_neg.words])\n",
        "\n",
        "pos_tokens = word_tokenize(positive_text)\n",
        "neg_tokens = word_tokenize(negative_text)\n",
        "\n",
        "pos_tokens = [word for word in pos_tokens if word not in stopwords]\n",
        "neg_tokens = [word for word in neg_tokens if word not in stopwords]\n",
        "\n",
        "clean_pos_tokens = []\n",
        "clean_neg_tokens = []\n",
        "\n",
        "for token in pos_tokens:\n",
        "    clean_token = ''.join(char for char in token if char not in punctuation)\n",
        "    if clean_token:\n",
        "        clean_pos_tokens.append(clean_token)\n",
        "\n",
        "for token in neg_tokens:\n",
        "    clean_token = ''.join(char for char in token if char not in punctuation)\n",
        "    if clean_token:\n",
        "        clean_neg_tokens.append(clean_token)"
      ]
    },
    {
      "cell_type": "code",
      "execution_count": 16,
      "metadata": {
        "colab": {
          "base_uri": "https://localhost:8080/",
          "height": 453
        },
        "id": "Rx0jSX7hKkhk",
        "outputId": "2247471d-9d24-4132-ea1b-d0f50ba41e60"
      },
      "outputs": [
        {
          "data": {
            "image/png": "[encoded data removed]",
            "text/plain": [
              "<Figure size 640x480 with 1 Axes>"
            ]
          },
          "metadata": {},
          "output_type": "display_data"
        }
      ],
      "source": [
        "from collections import Counter\n",
        "\n",
        "pos_freq = dict(Counter(clean_pos_tokens))\n",
        "pos_freq.pop('s')\n",
        "pos_popular_words = sorted(pos_freq, key = pos_freq.get, reverse = True)\n",
        "\n",
        "plt.barh(range(25), [pos_freq[w] for w in reversed(pos_popular_words[0:25])])\n",
        "plt.yticks([x + 0.5 for x in range(25)], reversed(pos_popular_words[0:25]))\n",
        "plt.title('Frequência Positiva')\n",
        "plt.show()"
      ]
    },
    {
      "cell_type": "code",
      "execution_count": 17,
      "metadata": {
        "colab": {
          "base_uri": "https://localhost:8080/",
          "height": 453
        },
        "id": "3KvjJcv7K69u",
        "outputId": "1e8716f5-754e-4602-d5f3-b509fbc71b7a"
      },
      "outputs": [
        {
          "data": {
            "image/png": "[encoded data removed]",
            "text/plain": [
              "<Figure size 640x480 with 1 Axes>"
            ]
          },
          "metadata": {},
          "output_type": "display_data"
        }
      ],
      "source": [
        "neg_freq = dict(Counter(clean_neg_tokens))\n",
        "neg_freq.pop('s')\n",
        "neg_freq.pop('m')\n",
        "neg_freq.pop('ca')\n",
        "neg_freq.pop('the')\n",
        "\n",
        "neg_popular_words = sorted(neg_freq, key = neg_freq.get, reverse = True)\n",
        "\n",
        "plt.barh(range(25), [neg_freq[w] for w in reversed(neg_popular_words[0:25])])\n",
        "plt.yticks([x + 0.5 for x in range(25)], reversed(neg_popular_words[0:25]))\n",
        "plt.title('Frequência Negativa')\n",
        "plt.show()"
      ]
    },
    {
      "cell_type": "code",
      "execution_count": 18,
      "metadata": {
        "colab": {
          "base_uri": "https://localhost:8080/"
        },
        "id": "Jr3tq3W4-tw0",
        "outputId": "c43da2fb-5d1c-4626-e105-cb5b4c28b42e"
      },
      "outputs": [
        {
          "data": {
            "text/plain": [
              "725449"
            ]
          },
          "execution_count": 18,
          "metadata": {},
          "output_type": "execute_result"
        }
      ],
      "source": [
        "len(lemma_pos)"
      ]
    },
    {
      "cell_type": "code",
      "execution_count": 26,
      "metadata": {
        "id": "GZw2GCs6AwIF"
      },
      "outputs": [],
      "source": [
        "df.to_csv('data/games_sentiment.csv', index=False)"
      ]
    },
    {
      "cell_type": "code",
      "execution_count": 20,
      "metadata": {},
      "outputs": [
        {
          "data": {
            "text/html": [
              "<div>\n",
              "<style scoped>\n",
              "    .dataframe tbody tr th:only-of-type {\n",
              "        vertical-align: middle;\n",
              "    }\n",
              "\n",
              "    .dataframe tbody tr th {\n",
              "        vertical-align: top;\n",
              "    }\n",
              "\n",
              "    .dataframe thead th {\n",
              "        text-align: right;\n",
              "    }\n",
              "</style>\n",
              "<table border=\"1\" class=\"dataframe\">\n",
              "  <thead>\n",
              "    <tr style=\"text-align: right;\">\n",
              "      <th></th>\n",
              "      <th>reviews</th>\n",
              "      <th>score</th>\n",
              "      <th>likes</th>\n",
              "      <th>time</th>\n",
              "      <th>app_name</th>\n",
              "      <th>year</th>\n",
              "      <th>reviews_en</th>\n",
              "      <th>sentences_en</th>\n",
              "      <th>classifications</th>\n",
              "      <th>positive_sentences</th>\n",
              "      <th>negative_sentences</th>\n",
              "    </tr>\n",
              "  </thead>\n",
              "  <tbody>\n",
              "    <tr>\n",
              "      <th>0</th>\n",
              "      <td>Olá! Sei que é um app que está em teste, está ...</td>\n",
              "      <td>4</td>\n",
              "      <td>586</td>\n",
              "      <td>13/11/2021</td>\n",
              "      <td>Xbox Game Pass (Beta)</td>\n",
              "      <td>2021</td>\n",
              "      <td>Hello! I know it's an app that's being tested,...</td>\n",
              "      <td>[Hello!, I know it's an app that's being teste...</td>\n",
              "      <td>[0, 1, 1]</td>\n",
              "      <td>[I know it's an app that's being tested, it's ...</td>\n",
              "      <td>[]</td>\n",
              "    </tr>\n",
              "    <tr>\n",
              "      <th>1</th>\n",
              "      <td>O app é excelente, a questão é que existem alg...</td>\n",
              "      <td>4</td>\n",
              "      <td>369</td>\n",
              "      <td>19/07/2022</td>\n",
              "      <td>Xbox Game Pass (Beta)</td>\n",
              "      <td>2022</td>\n",
              "      <td>The app is excellent, the issue is that there ...</td>\n",
              "      <td>[The app is excellent, the issue is that there...</td>\n",
              "      <td>[1, -1, 1]</td>\n",
              "      <td>[The app is excellent, the issue is that there...</td>\n",
              "      <td>[An example is Gears 5, which in Cloud Gaming ...</td>\n",
              "    </tr>\n",
              "    <tr>\n",
              "      <th>2</th>\n",
              "      <td>Sei que ainda está em beta mas, seria interess...</td>\n",
              "      <td>3</td>\n",
              "      <td>509</td>\n",
              "      <td>23/11/2021</td>\n",
              "      <td>Xbox Game Pass (Beta)</td>\n",
              "      <td>2021</td>\n",
              "      <td>I know it's still in beta, but it would be int...</td>\n",
              "      <td>[I know it's still in beta, but it would be in...</td>\n",
              "      <td>[1, 0, 1]</td>\n",
              "      <td>[I know it's still in beta, but it would be in...</td>\n",
              "      <td>[]</td>\n",
              "    </tr>\n",
              "    <tr>\n",
              "      <th>3</th>\n",
              "      <td>Ficou top o visual da nova versão. Deveriam un...</td>\n",
              "      <td>5</td>\n",
              "      <td>289</td>\n",
              "      <td>02/07/2020</td>\n",
              "      <td>Xbox Game Pass (Beta)</td>\n",
              "      <td>2020</td>\n",
              "      <td>The look of the new version was top. They shou...</td>\n",
              "      <td>[The look of the new version was top., They sh...</td>\n",
              "      <td>[1, 0, -1, 0, 1, 1]</td>\n",
              "      <td>[The look of the new version was top., Other t...</td>\n",
              "      <td>[It is missing to view the notes, game opinion...</td>\n",
              "    </tr>\n",
              "    <tr>\n",
              "      <th>4</th>\n",
              "      <td>O aplicativo é realmente muito bom, é o que to...</td>\n",
              "      <td>5</td>\n",
              "      <td>44</td>\n",
              "      <td>19/10/2021</td>\n",
              "      <td>Xbox Game Pass (Beta)</td>\n",
              "      <td>2021</td>\n",
              "      <td>The app is really good, it's what everyone exp...</td>\n",
              "      <td>[The app is really good, it's what everyone ex...</td>\n",
              "      <td>[1, 1, 0]</td>\n",
              "      <td>[The app is really good, it's what everyone ex...</td>\n",
              "      <td>[]</td>\n",
              "    </tr>\n",
              "    <tr>\n",
              "      <th>...</th>\n",
              "      <td>...</td>\n",
              "      <td>...</td>\n",
              "      <td>...</td>\n",
              "      <td>...</td>\n",
              "      <td>...</td>\n",
              "      <td>...</td>\n",
              "      <td>...</td>\n",
              "      <td>...</td>\n",
              "      <td>...</td>\n",
              "      <td>...</td>\n",
              "      <td>...</td>\n",
              "    </tr>\n",
              "    <tr>\n",
              "      <th>12231</th>\n",
              "      <td>Drird</td>\n",
              "      <td>5</td>\n",
              "      <td>0</td>\n",
              "      <td>14/05/2020</td>\n",
              "      <td>Steam Link</td>\n",
              "      <td>2020</td>\n",
              "      <td>Drird</td>\n",
              "      <td>[Drird]</td>\n",
              "      <td>[0]</td>\n",
              "      <td>[]</td>\n",
              "      <td>[]</td>\n",
              "    </tr>\n",
              "    <tr>\n",
              "      <th>12232</th>\n",
              "      <td>Paia</td>\n",
              "      <td>2</td>\n",
              "      <td>0</td>\n",
              "      <td>26/12/2021</td>\n",
              "      <td>Steam Link</td>\n",
              "      <td>2021</td>\n",
              "      <td>paia</td>\n",
              "      <td>[paia]</td>\n",
              "      <td>[0]</td>\n",
              "      <td>[]</td>\n",
              "      <td>[]</td>\n",
              "    </tr>\n",
              "    <tr>\n",
              "      <th>12233</th>\n",
              "      <td>Gg</td>\n",
              "      <td>4</td>\n",
              "      <td>0</td>\n",
              "      <td>27/09/2019</td>\n",
              "      <td>Steam Link</td>\n",
              "      <td>2019</td>\n",
              "      <td>gg</td>\n",
              "      <td>[gg]</td>\n",
              "      <td>[0]</td>\n",
              "      <td>[]</td>\n",
              "      <td>[]</td>\n",
              "    </tr>\n",
              "    <tr>\n",
              "      <th>12234</th>\n",
              "      <td>Amor</td>\n",
              "      <td>5</td>\n",
              "      <td>0</td>\n",
              "      <td>19/07/2018</td>\n",
              "      <td>Steam Link</td>\n",
              "      <td>2018</td>\n",
              "      <td>Love</td>\n",
              "      <td>[Love]</td>\n",
              "      <td>[1]</td>\n",
              "      <td>[Love]</td>\n",
              "      <td>[]</td>\n",
              "    </tr>\n",
              "    <tr>\n",
              "      <th>12235</th>\n",
              "      <td>e rum</td>\n",
              "      <td>1</td>\n",
              "      <td>0</td>\n",
              "      <td>02/03/2019</td>\n",
              "      <td>Steam Link</td>\n",
              "      <td>2019</td>\n",
              "      <td>and rum</td>\n",
              "      <td>[and rum]</td>\n",
              "      <td>[0]</td>\n",
              "      <td>[]</td>\n",
              "      <td>[]</td>\n",
              "    </tr>\n",
              "  </tbody>\n",
              "</table>\n",
              "<p>12236 rows × 11 columns</p>\n",
              "</div>"
            ],
            "text/plain": [
              "                                                 reviews  score  likes  \\\n",
              "0      Olá! Sei que é um app que está em teste, está ...      4    586   \n",
              "1      O app é excelente, a questão é que existem alg...      4    369   \n",
              "2      Sei que ainda está em beta mas, seria interess...      3    509   \n",
              "3      Ficou top o visual da nova versão. Deveriam un...      5    289   \n",
              "4      O aplicativo é realmente muito bom, é o que to...      5     44   \n",
              "...                                                  ...    ...    ...   \n",
              "12231                                              Drird      5      0   \n",
              "12232                                               Paia      2      0   \n",
              "12233                                                 Gg      4      0   \n",
              "12234                                               Amor      5      0   \n",
              "12235                                              e rum      1      0   \n",
              "\n",
              "             time               app_name  year  \\\n",
              "0      13/11/2021  Xbox Game Pass (Beta)  2021   \n",
              "1      19/07/2022  Xbox Game Pass (Beta)  2022   \n",
              "2      23/11/2021  Xbox Game Pass (Beta)  2021   \n",
              "3      02/07/2020  Xbox Game Pass (Beta)  2020   \n",
              "4      19/10/2021  Xbox Game Pass (Beta)  2021   \n",
              "...           ...                    ...   ...   \n",
              "12231  14/05/2020             Steam Link  2020   \n",
              "12232  26/12/2021             Steam Link  2021   \n",
              "12233  27/09/2019             Steam Link  2019   \n",
              "12234  19/07/2018             Steam Link  2018   \n",
              "12235  02/03/2019             Steam Link  2019   \n",
              "\n",
              "                                              reviews_en  \\\n",
              "0      Hello! I know it's an app that's being tested,...   \n",
              "1      The app is excellent, the issue is that there ...   \n",
              "2      I know it's still in beta, but it would be int...   \n",
              "3      The look of the new version was top. They shou...   \n",
              "4      The app is really good, it's what everyone exp...   \n",
              "...                                                  ...   \n",
              "12231                                              Drird   \n",
              "12232                                               paia   \n",
              "12233                                                 gg   \n",
              "12234                                               Love   \n",
              "12235                                            and rum   \n",
              "\n",
              "                                            sentences_en      classifications  \\\n",
              "0      [Hello!, I know it's an app that's being teste...            [0, 1, 1]   \n",
              "1      [The app is excellent, the issue is that there...           [1, -1, 1]   \n",
              "2      [I know it's still in beta, but it would be in...            [1, 0, 1]   \n",
              "3      [The look of the new version was top., They sh...  [1, 0, -1, 0, 1, 1]   \n",
              "4      [The app is really good, it's what everyone ex...            [1, 1, 0]   \n",
              "...                                                  ...                  ...   \n",
              "12231                                            [Drird]                  [0]   \n",
              "12232                                             [paia]                  [0]   \n",
              "12233                                               [gg]                  [0]   \n",
              "12234                                             [Love]                  [1]   \n",
              "12235                                          [and rum]                  [0]   \n",
              "\n",
              "                                      positive_sentences  \\\n",
              "0      [I know it's an app that's being tested, it's ...   \n",
              "1      [The app is excellent, the issue is that there...   \n",
              "2      [I know it's still in beta, but it would be in...   \n",
              "3      [The look of the new version was top., Other t...   \n",
              "4      [The app is really good, it's what everyone ex...   \n",
              "...                                                  ...   \n",
              "12231                                                 []   \n",
              "12232                                                 []   \n",
              "12233                                                 []   \n",
              "12234                                             [Love]   \n",
              "12235                                                 []   \n",
              "\n",
              "                                      negative_sentences  \n",
              "0                                                     []  \n",
              "1      [An example is Gears 5, which in Cloud Gaming ...  \n",
              "2                                                     []  \n",
              "3      [It is missing to view the notes, game opinion...  \n",
              "4                                                     []  \n",
              "...                                                  ...  \n",
              "12231                                                 []  \n",
              "12232                                                 []  \n",
              "12233                                                 []  \n",
              "12234                                                 []  \n",
              "12235                                                 []  \n",
              "\n",
              "[12236 rows x 11 columns]"
            ]
          },
          "execution_count": 20,
          "metadata": {},
          "output_type": "execute_result"
        }
      ],
      "source": [
        "df.drop(['sentences_sentiments'], axis=1, inplace=True)\n",
        "df"
      ]
    },
    {
      "cell_type": "code",
      "execution_count": null,
      "metadata": {},
      "outputs": [],
      "source": []
    }
  ],
  "metadata": {
    "colab": {
      "provenance": []
    },
    "kernelspec": {
      "display_name": "Python 3",
      "name": "python3"
    },
    "language_info": {
      "codemirror_mode": {
        "name": "ipython",
        "version": 3
      },
      "file_extension": ".py",
      "mimetype": "text/x-python",
      "name": "python",
      "nbconvert_exporter": "python",
      "pygments_lexer": "ipython3",
      "version": "3.9.13"
    }
  },
  "nbformat": 4,
  "nbformat_minor": 0
}
