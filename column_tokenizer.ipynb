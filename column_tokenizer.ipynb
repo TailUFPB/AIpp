{
 "cells": [
  {
   "cell_type": "code",
   "execution_count": 3,
   "id": "fd32ac94",
   "metadata": {},
   "outputs": [
    {
     "name": "stderr",
     "output_type": "stream",
     "text": [
      "[nltk_data] Downloading package stopwords to\n",
      "[nltk_data]     /home/jonasgabriel/nltk_data...\n",
      "[nltk_data]   Package stopwords is already up-to-date!\n"
     ]
    }
   ],
   "source": [
    "import pandas as pd\n",
    "import nltk\n",
    "from nltk.tokenize import word_tokenize\n",
    "import string\n",
    "\n",
    "nltk.download('stopwords')\n",
    "stopwords = nltk.corpus.stopwords.words('portuguese')"
   ]
  },
  {
   "cell_type": "code",
   "execution_count": 3,
   "id": "ccc5c930",
   "metadata": {},
   "outputs": [],
   "source": [
    "def remove_stopwords(text):\n",
    "    words = text.split()\n",
    "    clean_words = [word for word in words if word.lower() not in stopwords]\n",
    "    return ' '.join(clean_words)"
   ]
  },
  {
   "cell_type": "code",
   "execution_count": 4,
   "id": "b911003b",
   "metadata": {},
   "outputs": [],
   "source": [
    "def remove_punctuation(tokens):\n",
    "    punctuation = string.punctuation\n",
    "    clean_tokens = []\n",
    "    for token in tokens:\n",
    "        clean_token = ''.join(char for char in token if char not in punctuation)\n",
    "        if clean_token:\n",
    "            clean_tokens.append(clean_token)\n",
    "    \n",
    "    return clean_tokens"
   ]
  },
  {
   "cell_type": "code",
   "execution_count": 35,
   "id": "5f665185",
   "metadata": {},
   "outputs": [
    {
     "data": {
      "text/html": [
       "<div>\n",
       "<style scoped>\n",
       "    .dataframe tbody tr th:only-of-type {\n",
       "        vertical-align: middle;\n",
       "    }\n",
       "\n",
       "    .dataframe tbody tr th {\n",
       "        vertical-align: top;\n",
       "    }\n",
       "\n",
       "    .dataframe thead th {\n",
       "        text-align: right;\n",
       "    }\n",
       "</style>\n",
       "<table border=\"1\" class=\"dataframe\">\n",
       "  <thead>\n",
       "    <tr style=\"text-align: right;\">\n",
       "      <th></th>\n",
       "      <th>reviews</th>\n",
       "      <th>score</th>\n",
       "      <th>likes</th>\n",
       "      <th>time</th>\n",
       "      <th>app_name</th>\n",
       "      <th>year</th>\n",
       "    </tr>\n",
       "  </thead>\n",
       "  <tbody>\n",
       "    <tr>\n",
       "      <th>0</th>\n",
       "      <td>Um serviço que parece não saber onde quer cheg...</td>\n",
       "      <td>2.0</td>\n",
       "      <td>12.0</td>\n",
       "      <td>12/04/2023</td>\n",
       "      <td>Amazon Prime Video</td>\n",
       "      <td>2023.0</td>\n",
       "    </tr>\n",
       "    <tr>\n",
       "      <th>1</th>\n",
       "      <td>A seleção de filmes está cada vez melhor. A fu...</td>\n",
       "      <td>4.0</td>\n",
       "      <td>676.0</td>\n",
       "      <td>02/02/2023</td>\n",
       "      <td>Amazon Prime Video</td>\n",
       "      <td>2023.0</td>\n",
       "    </tr>\n",
       "    <tr>\n",
       "      <th>2</th>\n",
       "      <td>Acho o algoritmo do app muito ruim, o layout r...</td>\n",
       "      <td>4.0</td>\n",
       "      <td>736.0</td>\n",
       "      <td>30/01/2023</td>\n",
       "      <td>Amazon Prime Video</td>\n",
       "      <td>2023.0</td>\n",
       "    </tr>\n",
       "    <tr>\n",
       "      <th>3</th>\n",
       "      <td>Possui alguns bons filmes e séries, porém muit...</td>\n",
       "      <td>1.0</td>\n",
       "      <td>461.0</td>\n",
       "      <td>21/03/2023</td>\n",
       "      <td>Amazon Prime Video</td>\n",
       "      <td>2023.0</td>\n",
       "    </tr>\n",
       "    <tr>\n",
       "      <th>4</th>\n",
       "      <td>A maioria dos filmes bons tem que alugar, paga...</td>\n",
       "      <td>2.0</td>\n",
       "      <td>405.0</td>\n",
       "      <td>07/02/2023</td>\n",
       "      <td>Amazon Prime Video</td>\n",
       "      <td>2023.0</td>\n",
       "    </tr>\n",
       "  </tbody>\n",
       "</table>\n",
       "</div>"
      ],
      "text/plain": [
       "                                             reviews  score  likes  \\\n",
       "0  Um serviço que parece não saber onde quer cheg...    2.0   12.0   \n",
       "1  A seleção de filmes está cada vez melhor. A fu...    4.0  676.0   \n",
       "2  Acho o algoritmo do app muito ruim, o layout r...    4.0  736.0   \n",
       "3  Possui alguns bons filmes e séries, porém muit...    1.0  461.0   \n",
       "4  A maioria dos filmes bons tem que alugar, paga...    2.0  405.0   \n",
       "\n",
       "         time            app_name    year  \n",
       "0  12/04/2023  Amazon Prime Video  2023.0  \n",
       "1  02/02/2023  Amazon Prime Video  2023.0  \n",
       "2  30/01/2023  Amazon Prime Video  2023.0  \n",
       "3  21/03/2023  Amazon Prime Video  2023.0  \n",
       "4  07/02/2023  Amazon Prime Video  2023.0  "
      ]
     },
     "execution_count": 35,
     "metadata": {},
     "output_type": "execute_result"
    }
   ],
   "source": [
    "ds = 'Streaming'\n",
    "df = pd.read_csv(f'../Datasets/{ds}/{ds}.csv')\n",
    "df.head()"
   ]
  },
  {
   "cell_type": "code",
   "execution_count": 36,
   "id": "164dcb47",
   "metadata": {},
   "outputs": [
    {
     "data": {
      "text/plain": [
       "(734564, 6)"
      ]
     },
     "execution_count": 36,
     "metadata": {},
     "output_type": "execute_result"
    }
   ],
   "source": [
    "df.shape"
   ]
  },
  {
   "cell_type": "code",
   "execution_count": 37,
   "id": "fa83c1c4",
   "metadata": {},
   "outputs": [
    {
     "name": "stdout",
     "output_type": "stream",
     "text": [
      "<class 'pandas.core.frame.DataFrame'>\n",
      "RangeIndex: 734564 entries, 0 to 734563\n",
      "Data columns (total 6 columns):\n",
      " #   Column    Non-Null Count   Dtype  \n",
      "---  ------    --------------   -----  \n",
      " 0   reviews   734564 non-null  object \n",
      " 1   score     734564 non-null  float64\n",
      " 2   likes     734564 non-null  float64\n",
      " 3   time      734564 non-null  object \n",
      " 4   app_name  734564 non-null  object \n",
      " 5   year      734564 non-null  float64\n",
      "dtypes: float64(3), object(3)\n",
      "memory usage: 33.6+ MB\n"
     ]
    }
   ],
   "source": [
    "df.info()"
   ]
  },
  {
   "cell_type": "code",
   "execution_count": null,
   "id": "67c0c51f",
   "metadata": {},
   "outputs": [],
   "source": [
    "df['reviews_tokens'] = df['reviews'].apply(remove_stopwords)\n",
    "df.head()"
   ]
  },
  {
   "cell_type": "code",
   "execution_count": null,
   "id": "aaaa9a31",
   "metadata": {},
   "outputs": [],
   "source": [
    "df['reviews_tokens'] = df.apply(lambda row: nltk.word_tokenize(row['reviews_tokens'].lower()), axis=1)\n",
    "df.head()"
   ]
  },
  {
   "cell_type": "code",
   "execution_count": null,
   "id": "3db5b84c",
   "metadata": {},
   "outputs": [],
   "source": [
    "df['reviews_tokens'] = df['reviews_tokens'].apply(remove_punctuation)\n",
    "df['reviews_tokens'][0]"
   ]
  }
 ],
 "metadata": {
  "kernelspec": {
   "display_name": "Python 3 (ipykernel)",
   "language": "python",
   "name": "python3"
  },
  "language_info": {
   "codemirror_mode": {
    "name": "ipython",
    "version": 3
   },
   "file_extension": ".py",
   "mimetype": "text/x-python",
   "name": "python",
   "nbconvert_exporter": "python",
   "pygments_lexer": "ipython3",
   "version": "3.10.6"
  }
 },
 "nbformat": 4,
 "nbformat_minor": 5
}
